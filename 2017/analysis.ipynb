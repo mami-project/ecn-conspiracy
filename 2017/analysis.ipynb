{
 "cells": [
  {
   "cell_type": "markdown",
   "metadata": {},
   "source": [
    "### Preparing Pathspider ECN data for analysis\n",
    "\n",
    "Prepare FJSON formatted Pathspider ECN plugin merged observations in a single file for further per-target analysis"
   ]
  },
  {
   "cell_type": "code",
   "execution_count": 1,
   "metadata": {
    "collapsed": true
   },
   "outputs": [],
   "source": [
    "import pandas as pd\n",
    "import itertools\n",
    "import json\n",
    "import matplotlib.pyplot as plt\n",
    "\n",
    "%matplotlib inline\n",
    "\n",
    "def gen_ndjson_ecn_flows(filename, limit = 0):\n",
    "    \"\"\"\n",
    "    Iterate over objects in an NDJSON file,\n",
    "    returning only Pathspider ECN flow results\n",
    "    \"\"\"\n",
    "    with open(filename) as f:\n",
    "        for n, line in enumerate(f):\n",
    "            try:\n",
    "                j = json.loads(line)\n",
    "                for f in j['flow_results']:\n",
    "                    yield f\n",
    "            except Exception as e:\n",
    "                print(repr(e))\n",
    "\n",
    "            if limit and n >= limit - 1:\n",
    "                break\n",
    "\n",
    "def gen_ndjson_ecn_observations(filename, limit = 0):\n",
    "    \"\"\"\n",
    "    Iterate over objects in an NDJSON file,\n",
    "    returning full Pathspider ECN opservations\n",
    "    \"\"\"\n",
    "    with open(filename) as f:\n",
    "        for n, line in enumerate(f):\n",
    "            try:\n",
    "                j = json.loads(line)\n",
    "                yield j\n",
    "            except Exception as e:\n",
    "                print(repr(e))  \n",
    "\n",
    "            if limit and n >= limit - 1:\n",
    "                break"
   ]
  },
  {
   "cell_type": "markdown",
   "metadata": {},
   "source": [
    "Map conditions produced by PathSpider to column names, and load conditions into dataframes."
   ]
  },
  {
   "cell_type": "code",
   "execution_count": 2,
   "metadata": {
    "collapsed": false
   },
   "outputs": [],
   "source": [
    "condition_map = {\"ecn.connectivity.works\": \"all_conn\",\n",
    "                \"ecn.connectivity.broken\": \"ecn0_conn\",\n",
    "                \"ecn.connectivity.transient\": \"ecn1_conn\",\n",
    "                \"ecn.connectivity.offline\": \"no_conn\",\n",
    "                \"ecn.negotiated\": \"nego\",\n",
    "                \"ecn.ect_zero.seen\": \"ect0\",\n",
    "                \"ecn.ect_one.seen\": \"ect1\",\n",
    "                \"ecn.ce.seen\": \"ce\"}\n",
    "                                            \n",
    "def extract_ecn_conditions(obsgen):\n",
    "    for obs in obsgen:\n",
    "        d = { 'sip': obs['sip'],\n",
    "              'dip': obs['dip'],\n",
    "              'host': obs['hostname'],\n",
    "              'rank': obs['rank']}\n",
    "        \n",
    "        if len(obs['flow_results']) == 2 and 'oct_rev' in obs['flow_results'][1]:\n",
    "            d['ecn1_oct'] = obs['flow_results'][1]['oct_rev'] \n",
    "        else:\n",
    "            d['ecn1_oct'] = 0\n",
    "        \n",
    "        for col in condition_map.values():\n",
    "             d[col] = False\n",
    "        \n",
    "        condset = set(obs['conditions'])\n",
    "        for cond in condition_map:\n",
    "            if cond in condset:\n",
    "                d[condition_map[cond]] = True\n",
    "        \n",
    "        yield d\n",
    "\n",
    "def condition_dataframe(filename, limit = 0):\n",
    "    df = pd.DataFrame(extract_ecn_conditions(gen_ndjson_ecn_observations(filename, limit)))\n",
    "    \n",
    "    df['ip6'] = df[\"ip6\"] = df['dip'].apply(lambda x: \":\" in x)\n",
    "    \n",
    "    return df"
   ]
  },
  {
   "cell_type": "code",
   "execution_count": 3,
   "metadata": {
    "collapsed": false
   },
   "outputs": [],
   "source": [
    "df = {'ams': condition_dataframe('udQlWFuQrA-do-ams3-2048-0'),\n",
    "      'lon': condition_dataframe('udQlWFuQrA-do-lon1-2048-0'),\n",
    "      'fra': condition_dataframe('udQlWFuQrA-do-fra1-2048-0'),\n",
    "      'nyc': condition_dataframe('udQlWFuQrA-do-nyc2-2048-0'),\n",
    "      'sfo': condition_dataframe('udQlWFuQrA-do-sfo1-2048-0'),\n",
    "      'sgp': condition_dataframe('udQlWFuQrA-do-sgp1-2048-0') }"
   ]
  },
  {
   "cell_type": "markdown",
   "metadata": {},
   "source": [
    "### Analysis\n",
    "\n",
    "First the easy stuff. Targets negotiating ECN, and marking ECT"
   ]
  },
  {
   "cell_type": "code",
   "execution_count": 4,
   "metadata": {
    "collapsed": false
   },
   "outputs": [],
   "source": [
    "def df_counts(df):\n",
    "    out = {'n': len(df)}\n",
    "    \n",
    "    for oc in ('no_conn', 'ecn0_conn', 'ecn1_conn', 'all_conn', 'nego', 'nego-ect0-ect1', 'ect0+nego', 'ect1+nego', 'ce+nego', 'ect0-nego', 'ect1-nego', 'ce-nego'):\n",
    "        if '+' in oc:\n",
    "            col = oc.split(\"+\")\n",
    "            r = df[col[0]]\n",
    "            for ncol in col[1:]:\n",
    "                r = r & df[ncol]\n",
    "        elif '-' in oc:\n",
    "            col = oc.split(\"-\")\n",
    "            r = df[col[0]] \n",
    "            for ncol in col[1:]:\n",
    "                r = r & ~df[ncol]\n",
    "        else:\n",
    "            r = df[oc]\n",
    "        \n",
    "        try:\n",
    "            out[oc] = r.value_counts()[True]\n",
    "        except KeyError:\n",
    "            out[oc] = 0\n",
    "    \n",
    "    return out\n",
    "\n",
    "def print_df_counts(dc):\n",
    "    print(\"%d/%d (%5.3f%%) did not connect\" % (dc['no_conn'], dc['n'], dc['no_conn']*100/dc['n']))\n",
    "    print(\"%d/%d (%5.3f%%) negotiated ECN\" % (dc['nego'], dc['n'], dc['nego']*100/dc['n']))\n",
    "    print(\"%d/%d (%5.3f%%) and marked ECT0\" % (dc['ect0+nego'], dc['nego'], dc['ect0+nego']*100/dc['n']))\n",
    "    print(\"%d/%d (%5.3f%%) and marked ECT1\" % (dc['ect1+nego'], dc['nego'], dc['ect1+nego']*100/dc['n']))\n",
    "    print(\"%d/%d (%5.3f%%) and marked CE\" % (dc['ect1+nego'], dc['nego'], dc['ect1+nego']*100/dc['n']))\n",
    "\n",
    "def print_latex_table_v4v6(df):\n",
    "    \n",
    "    dc4 = df_counts(df[~df['ip6']])\n",
    "    dc6 = df_counts(df[df['ip6']])\n",
    "    \n",
    "    print(\"\\multicolumn{2}{c|}{IPv4} & \\multicolumn{2}{c|}{IPv6} &\\\\\\\\\")\n",
    "    print(\"\\multicolumn{2}{c|}{$n=$%d} & \\multicolumn{2}{c|}{$n=$%d} &\\\\\\\\\" % (dc4['n'], dc6['n']))\n",
    "    print(\"            hosts & pct      &    hosts & pct      & description \\\\\\\\\")\n",
    "    print(\"\\\\hline\")\n",
    "    print(\"           %6d & %6.3f\\\\%% &   %6d & %6.3f\\\\%% & Completely failed to connect \\\\\\\\\" %\n",
    "                    (dc4['no_conn'], dc4['no_conn']*100/dc4['n'], dc6['no_conn'], dc6['no_conn']*100/dc6['n']))\n",
    "    print(\"           %6d & %6.3f\\\\%% &   %6d & %6.3f\\\\%% & Failed to connect w/ECN \\\\\\\\\" %\n",
    "                    (dc4['ecn0_conn'], dc4['ecn0_conn']*100/dc4['n'], dc6['ecn0_conn'], dc6['ecn0_conn']*100/dc6['n']))\n",
    "    print(\"           %6d & %6.3f\\\\%% &   %6d & %6.3f\\\\%% & Transient connection failure \\\\\\\\\" %\n",
    "                    (dc4['ecn1_conn'], dc4['ecn1_conn']*100/dc4['n'], dc6['ecn1_conn'], dc6['ecn1_conn']*100/dc6['n']))\n",
    "    print(\"           %6d & %6.3f\\\\%% &   %6d & %6.3f\\\\%% & No connection failure, of which: \\\\\\\\\" %\n",
    "                    (dc4['all_conn'], dc4['all_conn']*100/dc4['n'], dc6['all_conn'], dc6['all_conn']*100/dc6['n']))\n",
    "    print(\"\\\\hline\")\n",
    "    print(\"           %6d & %6.3f\\\\%% &   %6d & %6.3f\\\\%% & \\hspace{3mm} Negotiated ECN, of which: \\\\\\\\\" %\n",
    "                    (dc4['nego'], dc4['nego']*100/dc4['all_conn'], dc6['nego'], dc6['nego']*100/dc6['all_conn']))\n",
    "    print(\"           %6d & %6.3f\\\\%% &   %6d & %6.3f\\\\%% & \\hspace{6mm} Marked ECT0 \\\\\\\\\" %\n",
    "                    (dc4['ect0+nego'], dc4['ect0+nego']*100/dc4['nego'], dc6['ect0+nego'], dc6['ect0+nego']*100/dc6['nego']))\n",
    "    print(\"           %6d & %6.3f\\\\%% &   %6d & %6.3f\\\\%% & \\hspace{6mm} Marked ECT1 \\\\\\\\\" %\n",
    "                    (dc4['ect1+nego'], dc4['ect1+nego']*100/dc4['nego'], dc6['ect1+nego'], dc6['ect1+nego']*100/dc6['nego']))\n",
    "\n",
    "    \n",
    "def print_latex_table_pam15(df):\n",
    "    dc4 = df_counts(df[~df['ip6']])\n",
    "    dc6 = df_counts(df[df['ip6']])\n",
    "    \n",
    "    print(\"\\multicolumn{2}{c|}{IPv4} & \\multicolumn{2}{c|}{IPv6} &\\\\\\\\\")\n",
    "    print(\"\\multicolumn{2}{c|}{$n=$%d} & \\multicolumn{2}{c|}{$n=$%d} &\\\\\\\\\" % (dc4['n'], dc6['n']))\n",
    "    print(\"            hosts & pct      &    hosts & pct      & description \\\\\\\\\")\n",
    "    print(\"\\\\hline\")\n",
    "    print(\"           %6d & %6.3f\\\\%% &   %6d & %6.3f\\\\%% & Completely failed to connect \\\\\\\\\" %\n",
    "                    (dc4['no_conn'], dc4['no_conn']*100/dc4['n'], dc6['no_conn'], dc6['no_conn']*100/dc6['n']))\n",
    "    print(\"           %6d & %6.3f\\\\%% &   %6d & %6.3f\\\\%% & Capable of negotiating ECN, of which: \\\\\\\\\" %\n",
    "                    (dc4['nego'], dc4['nego']*100/dc4['n'], dc6['nego'], dc6['nego']*100/dc6['all_conn']))    \n",
    "    print(\"           %6d & %6.3f\\\\%% &   %6d & %6.3f\\\\%% & \\hspace{6mm} Never mark ECT \\\\\\\\\" %\n",
    "                    (dc4['nego-ect0-ect1'], dc4['nego-ect0-ect1']*100/dc4['nego'], dc6['nego-ect0-ect1'], dc6['nego-ect0-ect1']*100/dc6['nego']))\n",
    "    print(\"           %6d & %6.3f\\\\%% &   %6d & %6.3f\\\\%% & \\hspace{6mm} Mark ECT1 \\\\\\\\\" %\n",
    "                    (dc4['ect1+nego'], dc4['ect1+nego']*100/dc4['nego'], dc6['ect1+nego'], dc6['ect1+nego']*100/dc6['nego']))\n",
    "    print(\"           %6d & %6.3f\\\\%% &   %6d & %6.3f\\\\%% & Failed to connect w/ECN \\\\\\\\\" %\n",
    "                    (dc4['ecn0_conn'], dc4['ecn0_conn']*100/dc4['n'], dc6['ecn0_conn'], dc6['ecn0_conn']*100/dc6['n']))\n",
    "#     print(\"           %6d & %6.3f\\\\%% &   %6d & %6.3f\\\\%% & Transient connection failure \\\\\\\\\" %\n",
    "#                     (dc4['ecn1_conn'], dc4['ecn1_conn']*100/dc4['n'], dc6['ecn1_conn'], dc6['ecn1_conn']*100/dc6['n']))\n",
    "#     print(\"           %6d & %6.3f\\\\%% &   %6d & %6.3f\\\\%% & No connection failure, of which: \\\\\\\\\" %\n",
    "#                     (dc4['all_conn'], dc4['all_conn']*100/dc4['n'], dc6['all_conn'], dc6['all_conn']*100/dc6['n']))\n",
    "#     print(\"\\\\hline\")\n",
    "#     print(\"           %6d & %6.3f\\\\%% &   %6d & %6.3f\\\\%% & \\hspace{6mm} Marked ECT0 \\\\\\\\\" %\n",
    "#                     (dc4['ect0+nego'], dc4['ect0+nego']*100/dc4['nego'], dc6['ect0+nego'], dc6['ect0+nego']*100/dc6['nego']))\n",
    "#     print(\"           %6d & %6.3f\\\\%% &   %6d & %6.3f\\\\%% & \\hspace{6mm} Marked ECT1 \\\\\\\\\" %\n",
    "#                     (dc4['ect1+nego'], dc4['ect1+nego']*100/dc4['nego'], dc6['ect1+nego'], dc6['ect1+nego']*100/dc6['nego']))\n",
    "    "
   ]
  },
  {
   "cell_type": "code",
   "execution_count": 5,
   "metadata": {
    "collapsed": false
   },
   "outputs": [
    {
     "name": "stdout",
     "output_type": "stream",
     "text": [
      "\\multicolumn{2}{c|}{IPv4} & \\multicolumn{2}{c|}{IPv6} &\\\\\n",
      "\\multicolumn{2}{c|}{$n=$675289} & \\multicolumn{2}{c|}{$n=$90531} &\\\\\n",
      "            hosts & pct      &    hosts & pct      & description \\\\\n",
      "\\hline\n",
      "            12583 &  1.863\\% &     3621 &  4.000\\% & Completely failed to connect \\\\\n",
      "           498866 & 73.874\\% &    82722 & 95.232\\% & Capable of negotiating ECN, of which: \\\\\n",
      "            15000 &  3.007\\% &     6622 &  8.005\\% & \\hspace{6mm} Never mark ECT \\\\\n",
      "               30 &  0.006\\% &       16 &  0.019\\% & \\hspace{6mm} Mark ECT1 \\\\\n",
      "             1851 &  0.274\\% &       23 &  0.025\\% & Failed to connect w/ECN \\\\\n"
     ]
    }
   ],
   "source": [
    "print_latex_table_pam15(df['ams'])"
   ]
  },
  {
   "cell_type": "markdown",
   "metadata": {
    "collapsed": true
   },
   "source": [
    "### Site and Path Dependency"
   ]
  },
  {
   "cell_type": "code",
   "execution_count": 37,
   "metadata": {
    "collapsed": true
   },
   "outputs": [],
   "source": [
    "import requests\n",
    "def canid_prefix_asn(addr,port=8377):\n",
    "    res = requests.get(\"http://localhost:%u/prefix.json?addr=%s\" % (port, str(addr)))\n",
    "    j = res.json()\n",
    "    return {'addr': addr,\n",
    "            'prefix': j['Prefix'],\n",
    "            'asn': j['ASN'],\n",
    "            'cc': j['CountryCode']}"
   ]
  },
  {
   "cell_type": "code",
   "execution_count": 38,
   "metadata": {
    "collapsed": false
   },
   "outputs": [],
   "source": [
    "site_df = pd.read_table(\"ecn-site-dependent-17jan10.txt\",header=None,names=[\"ip\"])\n",
    "site_df['ip6'] = site_df['ip'].apply(lambda x: \":\" in x)\n",
    "site_df['asn'] = site_df['ip'].apply(lambda a: canid_prefix_asn(a)['asn'])\n",
    "site_df['cc'] = site_df['ip'].apply(lambda a: canid_prefix_asn(a)['cc'])"
   ]
  },
  {
   "cell_type": "code",
   "execution_count": 39,
   "metadata": {
    "collapsed": false
   },
   "outputs": [],
   "source": [
    "path_df = pd.read_table(\"ecn-path-dependent-17jan10.txt\",header=None,names=[\"ip\"])\n",
    "path_df['ip6'] = path_df['ip'].apply(lambda x: \":\" in x)\n",
    "path_df['asn'] = path_df['ip'].apply(lambda a: canid_prefix_asn(a)['asn'])\n",
    "path_df['cc'] = path_df['ip'].apply(lambda a: canid_prefix_asn(a)['cc'])"
   ]
  },
  {
   "cell_type": "code",
   "execution_count": 40,
   "metadata": {
    "collapsed": false
   },
   "outputs": [
    {
     "data": {
      "text/plain": [
       "194"
      ]
     },
     "execution_count": 40,
     "metadata": {},
     "output_type": "execute_result"
    }
   ],
   "source": [
    "len(path_df[~path_df['ip6']])"
   ]
  },
  {
   "cell_type": "code",
   "execution_count": 41,
   "metadata": {
    "collapsed": false
   },
   "outputs": [
    {
     "data": {
      "text/plain": [
       "2"
      ]
     },
     "execution_count": 41,
     "metadata": {},
     "output_type": "execute_result"
    }
   ],
   "source": [
    "len(path_df[path_df['ip6']])"
   ]
  },
  {
   "cell_type": "code",
   "execution_count": 46,
   "metadata": {
    "collapsed": false
   },
   "outputs": [
    {
     "data": {
      "text/plain": [
       "4134      283\n",
       "4837       66\n",
       "62468      34\n",
       "17841      32\n",
       "4808       31\n",
       "4766       29\n",
       "40065      27\n",
       "38283      18\n",
       "38197      18\n",
       "197988     17\n",
       "132422     17\n",
       "17816      17\n",
       "4812       16\n",
       "4713       15\n",
       "4847       14\n",
       "58543      13\n",
       "44066      10\n",
       "17623      10\n",
       "131279     10\n",
       "4538        9\n",
       "133779      8\n",
       "13768       8\n",
       "9318        7\n",
       "9808        7\n",
       "9316        7\n",
       "53587       6\n",
       "3462        6\n",
       "4611        6\n",
       "23724       6\n",
       "9488        5\n",
       "         ... \n",
       "23570       1\n",
       "23568       1\n",
       "23565       1\n",
       "9186        1\n",
       "16339       1\n",
       "5089        1\n",
       "45977       1\n",
       "7018        1\n",
       "17213       1\n",
       "133948      1\n",
       "15107       1\n",
       "197695      1\n",
       "17511       1\n",
       "7564        1\n",
       "17676       1\n",
       "9595        1\n",
       "5483        1\n",
       "7524        1\n",
       "3390        1\n",
       "9531        1\n",
       "134420      1\n",
       "3320        1\n",
       "17564       1\n",
       "9459        1\n",
       "17638       1\n",
       "15557       1\n",
       "3249        1\n",
       "9389        1\n",
       "17574       1\n",
       "6147        1\n",
       "Name: asn, dtype: int64"
      ]
     },
     "execution_count": 46,
     "metadata": {},
     "output_type": "execute_result"
    }
   ],
   "source": [
    "site_df['asn'].value_counts()"
   ]
  },
  {
   "cell_type": "code",
   "execution_count": null,
   "metadata": {
    "collapsed": true
   },
   "outputs": [],
   "source": []
  }
 ],
 "metadata": {
  "kernelspec": {
   "display_name": "Python 3",
   "language": "python",
   "name": "python3"
  },
  "language_info": {
   "codemirror_mode": {
    "name": "ipython",
    "version": 3
   },
   "file_extension": ".py",
   "mimetype": "text/x-python",
   "name": "python",
   "nbconvert_exporter": "python",
   "pygments_lexer": "ipython3",
   "version": "3.5.2"
  }
 },
 "nbformat": 4,
 "nbformat_minor": 1
}
