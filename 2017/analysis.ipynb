{
 "cells": [
  {
   "cell_type": "markdown",
   "metadata": {},
   "source": [
    "### Preparing Pathspider ECN data for analysis\n",
    "\n",
    "Prepare FJSON formatted Pathspider ECN plugin merged observations in a single file for further per-target analysis"
   ]
  },
  {
   "cell_type": "code",
   "execution_count": 1,
   "metadata": {
    "collapsed": true
   },
   "outputs": [],
   "source": [
    "import pandas as pd\n",
    "import itertools\n",
    "import json\n",
    "import matplotlib.pyplot as plt\n",
    "\n",
    "%matplotlib inline\n",
    "\n",
    "def gen_ndjson_ecn_flows(filename, limit = 0):\n",
    "    \"\"\"\n",
    "    Iterate over objects in an NDJSON file,\n",
    "    returning only Pathspider ECN flow results\n",
    "    \"\"\"\n",
    "    with open(filename) as f:\n",
    "        for n, line in enumerate(f):\n",
    "            try:\n",
    "                j = json.loads(line)\n",
    "                for f in j['flow_results']:\n",
    "                    yield f\n",
    "            except Exception as e:\n",
    "                print(repr(e))\n",
    "\n",
    "            if limit and n >= limit - 1:\n",
    "                break\n",
    "\n",
    "def gen_ndjson_ecn_observations(filename, limit = 0):\n",
    "    \"\"\"\n",
    "    Iterate over objects in an NDJSON file,\n",
    "    returning full Pathspider ECN opservations\n",
    "    \"\"\"\n",
    "    with open(filename) as f:\n",
    "        for n, line in enumerate(f):\n",
    "            try:\n",
    "                j = json.loads(line)\n",
    "                yield j\n",
    "            except Exception as e:\n",
    "                print(repr(e))  \n",
    "\n",
    "            if limit and n >= limit - 1:\n",
    "                break"
   ]
  },
  {
   "cell_type": "markdown",
   "metadata": {},
   "source": [
    "Map conditions produced by PathSpider to column names, and load conditions into dataframes."
   ]
  },
  {
   "cell_type": "code",
   "execution_count": 2,
   "metadata": {
    "collapsed": false
   },
   "outputs": [],
   "source": [
    "condition_map = {\"ecn.connectivity.works\": \"all_conn\",\n",
    "                \"ecn.connectivity.broken\": \"ecn0_conn\",\n",
    "                \"ecn.connectivity.transient\": \"ecn1_conn\",\n",
    "                \"ecn.connectivity.offline\": \"no_conn\",\n",
    "                \"ecn.negotiated\": \"nego\",\n",
    "                \"ecn.ect_zero.seen\": \"ect0\",\n",
    "                \"ecn.ect_one.seen\": \"ect1\",\n",
    "                \"ecn.ce.seen\": \"ce\"}\n",
    "                                            \n",
    "def extract_ecn_conditions(obsgen):\n",
    "    for obs in obsgen:\n",
    "        d = { 'sip': obs['sip'],\n",
    "              'dip': obs['dip'],\n",
    "              'host': obs['hostname'],\n",
    "              'rank': obs['rank']}\n",
    "        \n",
    "        if len(obs['flow_results']) == 2 and 'oct_rev' in obs['flow_results'][1]:\n",
    "            d['ecn1_oct'] = obs['flow_results'][1]['oct_rev'] \n",
    "        else:\n",
    "            d['ecn1_oct'] = 0\n",
    "        \n",
    "        for col in condition_map.values():\n",
    "             d[col] = False\n",
    "        \n",
    "        condset = set(obs['conditions'])\n",
    "        for cond in condition_map:\n",
    "            if cond in condset:\n",
    "                d[condition_map[cond]] = True\n",
    "        \n",
    "        yield d\n",
    "\n",
    "def condition_dataframe(filename, limit = 0):\n",
    "    df = pd.DataFrame(extract_ecn_conditions(gen_ndjson_ecn_observations(filename, limit)))\n",
    "    \n",
    "    df['ip6'] = df[\"ip6\"] = df['dip'].apply(lambda x: \":\" in x)\n",
    "    \n",
    "    return df"
   ]
  },
  {
   "cell_type": "code",
   "execution_count": 3,
   "metadata": {
    "collapsed": false
   },
   "outputs": [],
   "source": [
    "df = {'ams': condition_dataframe('udQlWFuQrA-do-ams3-2048-0'),\n",
    "      'lon': condition_dataframe('udQlWFuQrA-do-lon1-2048-0'),\n",
    "      'fra': condition_dataframe('udQlWFuQrA-do-fra1-2048-0'),\n",
    "      'nyc': condition_dataframe('udQlWFuQrA-do-nyc2-2048-0'),\n",
    "      'sfo': condition_dataframe('udQlWFuQrA-do-sfo1-2048-0'),\n",
    "      'sgp': condition_dataframe('udQlWFuQrA-do-sgp1-2048-0') }"
   ]
  },
  {
   "cell_type": "markdown",
   "metadata": {},
   "source": [
    "### Analysis\n",
    "\n",
    "First the easy stuff. Targets negotiating ECN, and marking ECT"
   ]
  },
  {
   "cell_type": "code",
   "execution_count": 7,
   "metadata": {
    "collapsed": false
   },
   "outputs": [],
   "source": [
    "def df_counts(df):\n",
    "    out = {'n': len(df)}\n",
    "    \n",
    "    for oc in ('no_conn', 'ecn0_conn', 'ecn1_conn', 'all_conn', 'nego', 'nego-ect0-ect1', 'ect0+nego', 'ect1+nego', 'ce+nego', 'ect0-nego', 'ect1-nego', 'ce-nego'):\n",
    "        if '+' in oc:\n",
    "            col = oc.split(\"+\")\n",
    "            r = df[col[0]]\n",
    "            for ncol in col[1:]:\n",
    "                r = r & df[ncol]\n",
    "        elif '-' in oc:\n",
    "            col = oc.split(\"-\")\n",
    "            r = df[col[0]] \n",
    "            for ncol in col[1:]:\n",
    "                r = r & ~df[ncol]\n",
    "        else:\n",
    "            r = df[oc]\n",
    "        \n",
    "        try:\n",
    "            out[oc] = r.value_counts()[True]\n",
    "        except KeyError:\n",
    "            out[oc] = 0\n",
    "    \n",
    "    return out\n",
    "\n",
    "def print_df_counts(dc):\n",
    "    print(\"%d/%d (%5.3f%%) did not connect\" % (dc['no_conn'], dc['n'], dc['no_conn']*100/dc['n']))\n",
    "    print(\"%d/%d (%5.3f%%) negotiated ECN\" % (dc['nego'], dc['n'], dc['nego']*100/dc['n']))\n",
    "    print(\"%d/%d (%5.3f%%) and marked ECT0\" % (dc['ect0+nego'], dc['nego'], dc['ect0+nego']*100/dc['n']))\n",
    "    print(\"%d/%d (%5.3f%%) and marked ECT1\" % (dc['ect1+nego'], dc['nego'], dc['ect1+nego']*100/dc['n']))\n",
    "    print(\"%d/%d (%5.3f%%) and marked CE\" % (dc['ect1+nego'], dc['nego'], dc['ect1+nego']*100/dc['n']))\n",
    "\n",
    "def print_latex_table_v4v6(df):\n",
    "    \n",
    "    dc4 = df_counts(df[~df['ip6']])\n",
    "    dc6 = df_counts(df[df['ip6']])\n",
    "    \n",
    "    print(\"\\multicolumn{2}{c|}{IPv4} & \\multicolumn{2}{c|}{IPv6} &\\\\\\\\\")\n",
    "    print(\"\\multicolumn{2}{c|}{$n=$%d} & \\multicolumn{2}{c|}{$n=$%d} &\\\\\\\\\" % (dc4['n'], dc6['n']))\n",
    "    print(\"            hosts & pct      &    hosts & pct      & description \\\\\\\\\")\n",
    "    print(\"\\\\hline\")\n",
    "    print(\"           %6d & %6.3f\\\\%% &   %6d & %6.3f\\\\%% & Completely failed to connect \\\\\\\\\" %\n",
    "                    (dc4['no_conn'], dc4['no_conn']*100/dc4['n'], dc6['no_conn'], dc6['no_conn']*100/dc6['n']))\n",
    "    print(\"           %6d & %6.3f\\\\%% &   %6d & %6.3f\\\\%% & Failed to connect w/ECN \\\\\\\\\" %\n",
    "                    (dc4['ecn0_conn'], dc4['ecn0_conn']*100/dc4['n'], dc6['ecn0_conn'], dc6['ecn0_conn']*100/dc6['n']))\n",
    "    print(\"           %6d & %6.3f\\\\%% &   %6d & %6.3f\\\\%% & Transient connection failure \\\\\\\\\" %\n",
    "                    (dc4['ecn1_conn'], dc4['ecn1_conn']*100/dc4['n'], dc6['ecn1_conn'], dc6['ecn1_conn']*100/dc6['n']))\n",
    "    print(\"           %6d & %6.3f\\\\%% &   %6d & %6.3f\\\\%% & No connection failure, of which: \\\\\\\\\" %\n",
    "                    (dc4['all_conn'], dc4['all_conn']*100/dc4['n'], dc6['all_conn'], dc6['all_conn']*100/dc6['n']))\n",
    "    print(\"\\\\hline\")\n",
    "    print(\"           %6d & %6.3f\\\\%% &   %6d & %6.3f\\\\%% & \\hspace{3mm} Negotiated ECN, of which: \\\\\\\\\" %\n",
    "                    (dc4['nego'], dc4['nego']*100/dc4['all_conn'], dc6['nego'], dc6['nego']*100/dc6['all_conn']))\n",
    "    print(\"           %6d & %6.3f\\\\%% &   %6d & %6.3f\\\\%% & \\hspace{6mm} Marked ECT0 \\\\\\\\\" %\n",
    "                    (dc4['ect0+nego'], dc4['ect0+nego']*100/dc4['nego'], dc6['ect0+nego'], dc6['ect0+nego']*100/dc6['nego']))\n",
    "    print(\"           %6d & %6.3f\\\\%% &   %6d & %6.3f\\\\%% & \\hspace{6mm} Marked ECT1 \\\\\\\\\" %\n",
    "                    (dc4['ect1+nego'], dc4['ect1+nego']*100/dc4['nego'], dc6['ect1+nego'], dc6['ect1+nego']*100/dc6['nego']))\n",
    "\n",
    "    \n",
    "def print_latex_table_pam15(df):\n",
    "    dc4 = df_counts(df[~df['ip6']])\n",
    "    dc6 = df_counts(df[df['ip6']])\n",
    "    \n",
    "    print(\"\\multicolumn{2}{c|}{IPv4} & \\multicolumn{2}{c|}{IPv6} &\\\\\\\\\")\n",
    "    print(\"\\multicolumn{2}{c|}{$n=$%d} & \\multicolumn{2}{c|}{$n=$%d} &\\\\\\\\\" % (dc4['n'], dc6['n']))\n",
    "    print(\"            hosts & pct      &    hosts & pct      & description \\\\\\\\\")\n",
    "    print(\"\\\\hline\")\n",
    "    print(\"           %6d & %6.3f\\\\%% &   %6d & %6.3f\\\\%% & Completely failed to connect \\\\\\\\\" %\n",
    "                    (dc4['no_conn'], dc4['no_conn']*100/dc4['n'], dc6['no_conn'], dc6['no_conn']*100/dc6['n']))\n",
    "    print(\"           %6d & %6.3f\\\\%% &   %6d & %6.3f\\\\%% & Capable of negotiating ECN, of which: \\\\\\\\\" %\n",
    "                    (dc4['nego'], dc4['nego']*100/dc4['n'], dc6['nego'], dc6['nego']*100/dc6['all_conn']))    \n",
    "    print(\"           %6d & %6.3f\\\\%% &   %6d & %6.3f\\\\%% & \\hspace{6mm} Never mark ECT \\\\\\\\\" %\n",
    "                    (dc4['nego-ect0-ect1'], dc4['nego-ect0-ect1']*100/dc4['nego'], dc6['nego-ect0-ect1'], dc6['nego-ect0-ect1']*100/dc6['nego']))\n",
    "    print(\"           %6d & %6.3f\\\\%% &   %6d & %6.3f\\\\%% & \\hspace{6mm} Mark ECT1 \\\\\\\\\" %\n",
    "                    (dc4['ect1+nego'], dc4['ect1+nego']*100/dc4['nego'], dc6['ect1+nego'], dc6['ect1+nego']*100/dc6['nego']))\n",
    "    print(\"           %6d & %6.3f\\\\%% &   %6d & %6.3f\\\\%% & Failed to connect w/ECN \\\\\\\\\" %\n",
    "                    (dc4['ecn0_conn'], dc4['ecn0_conn']*100/dc4['n'], dc6['ecn0_conn'], dc6['ecn0_conn']*100/dc6['n']))\n",
    "#     print(\"           %6d & %6.3f\\\\%% &   %6d & %6.3f\\\\%% & Transient connection failure \\\\\\\\\" %\n",
    "#                     (dc4['ecn1_conn'], dc4['ecn1_conn']*100/dc4['n'], dc6['ecn1_conn'], dc6['ecn1_conn']*100/dc6['n']))\n",
    "#     print(\"           %6d & %6.3f\\\\%% &   %6d & %6.3f\\\\%% & No connection failure, of which: \\\\\\\\\" %\n",
    "#                     (dc4['all_conn'], dc4['all_conn']*100/dc4['n'], dc6['all_conn'], dc6['all_conn']*100/dc6['n']))\n",
    "#     print(\"\\\\hline\")\n",
    "#     print(\"           %6d & %6.3f\\\\%% &   %6d & %6.3f\\\\%% & \\hspace{6mm} Marked ECT0 \\\\\\\\\" %\n",
    "#                     (dc4['ect0+nego'], dc4['ect0+nego']*100/dc4['nego'], dc6['ect0+nego'], dc6['ect0+nego']*100/dc6['nego']))\n",
    "#     print(\"           %6d & %6.3f\\\\%% &   %6d & %6.3f\\\\%% & \\hspace{6mm} Marked ECT1 \\\\\\\\\" %\n",
    "#                     (dc4['ect1+nego'], dc4['ect1+nego']*100/dc4['nego'], dc6['ect1+nego'], dc6['ect1+nego']*100/dc6['nego']))\n",
    "    "
   ]
  },
  {
   "cell_type": "code",
   "execution_count": 9,
   "metadata": {
    "collapsed": false
   },
   "outputs": [
    {
     "name": "stdout",
     "output_type": "stream",
     "text": [
      "\\multicolumn{2}{c|}{IPv4} & \\multicolumn{2}{c|}{IPv6} &\\\\\n",
      "\\multicolumn{2}{c|}{$n=$675289} & \\multicolumn{2}{c|}{$n=$90531} &\\\\\n",
      "            hosts & pct      &    hosts & pct      & description \\\\\n",
      "\\hline\n",
      "            12583 &  1.863\\% &     3621 &  4.000\\% & Completely failed to connect \\\\\n",
      "           498866 & 73.874\\% &    82722 & 95.232\\% & Capable of negotiating ECN, of which: \\\\\n",
      "            15000 &  3.007\\% &     6622 &  8.005\\% & \\hspace{6mm} Never mark ECT \\\\\n",
      "               30 &  0.006\\% &       16 &  0.019\\% & \\hspace{6mm} Mark ECT1 \\\\\n",
      "             1851 &  0.274\\% &       23 &  0.025\\% & Failed to connect w/ECN \\\\\n"
     ]
    }
   ],
   "source": [
    "print_latex_table_pam15(df['ams'])"
   ]
  },
  {
   "cell_type": "markdown",
   "metadata": {
    "collapsed": true
   },
   "source": [
    "```\n",
    "432544 & 70.01\\% & 20262 & 82.80\\% & Capable of negotiating ECN, of which...\\\\\n",
    " 11718 &  1.90\\% &  2167 &  8.86\\% & \\hspace{2em} Never mark ECT\\\\\n",
    "184217 & 29.81\\% &  3246 & 13.26\\% & Not capable of negotiating ECN, of which...\\\\\n",
    "   689 &  0.11\\% &    28 &  0.11\\% & \\hspace{1em} Always mark ECT(0)\\\\\n",
    "  1112 &  0.18\\% &   964 &  3.94\\% & Never connect with ECN\\\\\n",
    "```"
   ]
  },
  {
   "cell_type": "code",
   "execution_count": null,
   "metadata": {
    "collapsed": true
   },
   "outputs": [],
   "source": []
  },
  {
   "cell_type": "code",
   "execution_count": null,
   "metadata": {
    "collapsed": true
   },
   "outputs": [],
   "source": []
  },
  {
   "cell_type": "code",
   "execution_count": null,
   "metadata": {
    "collapsed": true
   },
   "outputs": [],
   "source": []
  }
 ],
 "metadata": {
  "kernelspec": {
   "display_name": "Python 3",
   "language": "python",
   "name": "python3"
  },
  "language_info": {
   "codemirror_mode": {
    "name": "ipython",
    "version": 3
   },
   "file_extension": ".py",
   "mimetype": "text/x-python",
   "name": "python",
   "nbconvert_exporter": "python",
   "pygments_lexer": "ipython3",
   "version": "3.5.2"
  }
 },
 "nbformat": 4,
 "nbformat_minor": 1
}
