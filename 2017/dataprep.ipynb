{
 "cells": [
  {
   "cell_type": "markdown",
   "metadata": {},
   "source": [
    "### Dataprep / Pathspider\n",
    "\n",
    "Prepare FJSON formatted Pathspider ECN plugin merged observations in a single file for further per-target analysis"
   ]
  },
  {
   "cell_type": "code",
   "execution_count": 5,
   "metadata": {
    "collapsed": true
   },
   "outputs": [],
   "source": [
    "import pandas as pd\n",
    "import itertools\n",
    "import json\n",
    "import matplotlib.pyplot as plt\n",
    "\n",
    "%matplotlib inline\n",
    "\n",
    "def gen_ndjson_ecn_flows(filename, limit = 0):\n",
    "    \"\"\"\n",
    "    Iterate over objects in an NDJSON file,\n",
    "    returning only Pathspider ECN flow results\n",
    "    \"\"\"\n",
    "    with open(filename) as f:\n",
    "        for n, line in enumerate(f):\n",
    "            try:\n",
    "                j = json.loads(line)\n",
    "                for f in j['flow_results']:\n",
    "                    yield f\n",
    "            except Exception as e:\n",
    "                print(repr(e))\n",
    "\n",
    "            if limit and n >= limit - 1:\n",
    "                break\n",
    "def gen_ndjson_ecn_observations(filename, limit = 0):\n",
    "    \"\"\"\n",
    "    Iterate over objects in an NDJSON file,\n",
    "    returning full Pathspider ECN opservations\n",
    "    \"\"\"\n",
    "    with open(filename) as f:\n",
    "        for n, line in enumerate(f):\n",
    "            try:\n",
    "                j = json.loads(line)\n",
    "                yield j\n",
    "            except Exception as e:\n",
    "                print(repr(e))  \n",
    "\n",
    "            if limit and n >= limit - 1:\n",
    "                break"
   ]
  },
  {
   "cell_type": "code",
   "execution_count": 21,
   "metadata": {
    "collapsed": false
   },
   "outputs": [],
   "source": [
    "condition_map = {\"ecn.connectivity.works\": \"all_conn\",\n",
    "                \"ecn.connectivity.broken\": \"ecn0_conn\",\n",
    "                \"ecn.connectivity.transient\": \"ecn1_conn\",\n",
    "                \"ecn.connectivity.offline\": \"no_conn\",\n",
    "                \"ecn.negotiated\": \"nego\",\n",
    "                \"ecn.ect_zero.seen\": \"ect0\",\n",
    "                \"ecn.ect_one.seen\": \"ect1\",\n",
    "                \"ecn.ce.seen\": \"ce\"}\n",
    "                                            \n",
    "def extract_ecn_conditions(obsgen):\n",
    "    for obs in obsgen:\n",
    "        d = { 'sip': obs['sip'],\n",
    "              'dip': obs['dip'],\n",
    "              'host': obs['hostname'],\n",
    "              'rank': obs['rank']}\n",
    "        \n",
    "        if len(obs['flow_results']) == 2 and 'oct_rev' in obs['flow_results'][1]:\n",
    "            d['ecn1_oct'] = obs['flow_results'][1]['oct_rev'] \n",
    "        else:\n",
    "            d['ecn1_oct'] = 0\n",
    "        \n",
    "        for col in condition_map.values():\n",
    "             d[col] = False\n",
    "        \n",
    "        condset = set(obs['conditions'])\n",
    "        for cond in condition_map:\n",
    "            if cond in condset:\n",
    "                d[condition_map[cond]] = True\n",
    "        \n",
    "        yield d\n",
    "\n",
    "def condition_dataframe(filename, limit = 0):\n",
    "    return pd.DataFrame(extract_ecn_conditions(gen_ndjson_ecn_observations(filename, limit)))"
   ]
  },
  {
   "cell_type": "code",
   "execution_count": 34,
   "metadata": {
    "collapsed": false
   },
   "outputs": [
    {
     "name": "stdout",
     "output_type": "stream",
     "text": [
      "CPU times: user 26 s, sys: 797 ms, total: 26.8 s\n",
      "Wall time: 26.8 s\n",
      "CPU times: user 30.6 s, sys: 1.28 s, total: 31.9 s\n",
      "Wall time: 32 s\n",
      "CPU times: user 30.1 s, sys: 1.25 s, total: 31.3 s\n",
      "Wall time: 31.4 s\n",
      "CPU times: user 29.2 s, sys: 1.16 s, total: 30.4 s\n",
      "Wall time: 30.4 s\n",
      "CPU times: user 27.9 s, sys: 1.12 s, total: 29 s\n",
      "Wall time: 29.1 s\n",
      "CPU times: user 28.6 s, sys: 1.17 s, total: 29.8 s\n",
      "Wall time: 29.8 s\n"
     ]
    }
   ],
   "source": [
    "df = {}\n",
    "%time df{'ams'} = condition_dataframe('udQlWFuQrA-do-ams3-2048-0')\n",
    "%time df{'lon'} = condition_dataframe('udQlWFuQrA-do-lon1-2048-0')\n",
    "%time df{'fra'} = condition_dataframe('udQlWFuQrA-do-fra1-2048-0')\n",
    "%time df{'nyc'} = condition_dataframe('udQlWFuQrA-do-nyc2-2048-0')\n",
    "%time df{'sfo'} = condition_dataframe('udQlWFuQrA-do-sfo1-2048-0')\n",
    "%time df{'sgp'} = condition_dataframe('udQlWFuQrA-do-sgp1-2048-0')"
   ]
  },
  {
   "cell_type": "code",
   "execution_count": 36,
   "metadata": {
    "collapsed": false
   },
   "outputs": [],
   "source": [
    "df = { 'ams': df_ams0,\n",
    "       'fra': df_fra0,\n",
    "       'lon': df_lon0,\n",
    "       'nyc': df_nyc0,\n",
    "       'sfo': df_sfo0,\n",
    "       'sgp': df_sgp0 }"
   ]
  },
  {
   "cell_type": "code",
   "execution_count": 33,
   "metadata": {
    "collapsed": false
   },
   "outputs": [
    {
     "data": {
      "text/plain": [
       "False    764620\n",
       "True       1200\n",
       "dtype: int64"
      ]
     },
     "execution_count": 33,
     "metadata": {},
     "output_type": "execute_result"
    }
   ],
   "source": []
  },
  {
   "cell_type": "code",
   "execution_count": null,
   "metadata": {
    "collapsed": true
   },
   "outputs": [],
   "source": []
  }
 ],
 "metadata": {
  "kernelspec": {
   "display_name": "Python 3",
   "language": "python",
   "name": "python3"
  },
  "language_info": {
   "codemirror_mode": {
    "name": "ipython",
    "version": 3
   },
   "file_extension": ".py",
   "mimetype": "text/x-python",
   "name": "python",
   "nbconvert_exporter": "python",
   "pygments_lexer": "ipython3",
   "version": "3.5.2"
  }
 },
 "nbformat": 4,
 "nbformat_minor": 1
}
