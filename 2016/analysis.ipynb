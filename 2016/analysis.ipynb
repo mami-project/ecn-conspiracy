{
 "cells": [
  {
   "cell_type": "markdown",
   "metadata": {},
   "source": [
    "## ECN Spider data input\n",
    "\n",
    "First, load prerequisites and configure things"
   ]
  },
  {
   "cell_type": "code",
   "execution_count": 1,
   "metadata": {
    "collapsed": false
   },
   "outputs": [],
   "source": [
    "%matplotlib inline\n",
    "\n",
    "import pandas as pd\n",
    "import numpy as np\n",
    "import matplotlib.pyplot as plt\n",
    "\n",
    "import bz2\n",
    "from ipaddress import ip_address\n",
    "\n",
    "# Change this to point at the raw data files (they're not in the paper directory)\n",
    "#DATAPATH=\"/Users/brian/work/ecn\" # for thaleia\n",
    "\n",
    "DATAPATH=\".\" # for maloja\n",
    "TABLESDIR=\".\"\n",
    "PLOTSDIR=\".\""
   ]
  },
  {
   "cell_type": "markdown",
   "metadata": {},
   "source": [
    "Load the `cc_df` (ECN Spider) table, which has the following columns:\n",
    "\n",
    "- `ip`: index, IP address as string\n",
    "- `rank`: Alexa website rank\n",
    "- `site`: Website hostname\n",
    "- `ip6`: True if address is IPv6 (for convenience in splitting v4 and v6 analyses without string munging)\n",
    "- *vantage*`-`*trial*`-e0`: True if connection succeeded for *trial* at *vantage* without ECN negotiation attempt\n",
    "- *vantage*`-`*trial*`-e1`: True if connection succeeded for *trial* at *vantage* with ECN negotiation attempt\n"
   ]
  },
  {
   "cell_type": "code",
   "execution_count": 2,
   "metadata": {
    "collapsed": false
   },
   "outputs": [],
   "source": [
    "cc_df = pd.read_csv(TABLESDIR+\"/cc_df.csv\")\n",
    "cc_df.index = cc_df[\"ip\"]\n",
    "del cc_df[\"ip\"]"
   ]
  },
  {
   "cell_type": "markdown",
   "metadata": {},
   "source": [
    "Derive some convenience columns from the raw data:\n",
    "\n",
    "- *vantage*`-`*trial*`-nope`: True if connection always failed\n",
    "- *vantage*`-`*trial*`-eq`: True if connection state is equal for ECN and no-ECN\n",
    "- *vantage*`-`*trial*`-dep`: True if connection without ECN, not with.\n",
    "- *vantage*`-`*trial*`-odd`: True if connection with ECN, not without."
   ]
  },
  {
   "cell_type": "code",
   "execution_count": 3,
   "metadata": {
    "collapsed": false
   },
   "outputs": [],
   "source": [
    "e0cols = []\n",
    "e1cols = []\n",
    "nopecols = []\n",
    "eqcols = []\n",
    "depcols = []\n",
    "oddcols = []\n",
    "\n",
    "# Per-trial additional data\n",
    "for vp in [\"ams\"]:\n",
    "    for trial in [0]:\n",
    "        trial = str(trial)\n",
    "        e0col = \"-\".join([vp,trial,\"e0\"])\n",
    "        e1col = \"-\".join([vp,trial,\"e1\"])\n",
    "        nopecol = \"-\".join([vp,trial,\"nope\"])\n",
    "        eqcol = \"-\".join([vp,trial,\"eq\"])\n",
    "        depcol = \"-\".join([vp,trial,\"dep\"])\n",
    "        oddcol = \"-\".join([vp,trial,\"odd\"])\n",
    "        e0cols += [e0col]\n",
    "        e1cols += [e1col]\n",
    "        nopecols += [nopecol]\n",
    "        eqcols += [eqcol]\n",
    "        depcols += [depcol]       \n",
    "        oddcols += [oddcol]        \n",
    "        \n",
    "        cc_df[nopecol] = (~cc_df[e0col] & ~cc_df[e1col])\n",
    "        cc_df[eqcol] = (cc_df[e0col] & cc_df[e1col]) | cc_df[nopecol]\n",
    "        cc_df[depcol] = cc_df[e0col] & ~cc_df[e1col]\n",
    "        cc_df[oddcol] = ~cc_df[e0col] & cc_df[e1col]"
   ]
  },
  {
   "cell_type": "markdown",
   "metadata": {},
   "source": [
    "Now generate connectivity dependency numbers:"
   ]
  },
  {
   "cell_type": "code",
   "execution_count": 4,
   "metadata": {
    "collapsed": false
   },
   "outputs": [
    {
     "name": "stdout",
     "output_type": "stream",
     "text": [
      "  2809 of 628896 (0.447%) of IPv4 addresses may have ECN dependency\n",
      "    30 of  26393 (0.114%) of IPv6 addresses may have ECN dependency\n",
      "  2839 of 655289 (0.433%) of  all addresses may have ECN dependency\n"
     ]
    }
   ],
   "source": [
    "ip4conndep = cc_df[~cc_df['ip6']]['ams-0-dep'].value_counts()[True]\n",
    "ip4total = len(cc_df[~cc_df['ip6']])\n",
    "print(\"%6u of %6u (%5.3f%%) of IPv4 addresses may have ECN dependency\"%(ip4conndep, \n",
    "                                                                      ip4total, \n",
    "                                                                      ip4conndep * 100 / ip4total))\n",
    "ip6conndep = cc_df[cc_df['ip6']]['ams-0-dep'].value_counts()[True]\n",
    "ip6total = len(cc_df[cc_df['ip6']])\n",
    "print(\"%6u of %6u (%5.3f%%) of IPv6 addresses may have ECN dependency\"%(ip6conndep, \n",
    "                                                                      ip6total, \n",
    "                                                                      ip6conndep * 100 / ip6total))\n",
    "print(\"%6u of %6u (%5.3f%%) of  all addresses may have ECN dependency\"%(ip4conndep + ip6conndep, \n",
    "                                                                      ip4total + ip6total, \n",
    "                                                                      (ip4conndep + ip6conndep) * 100 / (ip4total + ip6total)))\n",
    "\n"
   ]
  },
  {
   "cell_type": "markdown",
   "metadata": {},
   "source": [
    "How about complete connection failure?"
   ]
  },
  {
   "cell_type": "code",
   "execution_count": 5,
   "metadata": {
    "collapsed": false
   },
   "outputs": [
    {
     "name": "stdout",
     "output_type": "stream",
     "text": [
      "  9221 of 628896 (1.466%) of IPv4 addresses failed to connect\n",
      "  2637 of  26393 (9.991%) of IPv6 addresses failed to connect\n",
      " 11858 of 655289 (1.810%) of  all addresses failed to connect\n"
     ]
    }
   ],
   "source": [
    "ip4nope = cc_df[~cc_df['ip6']]['ams-0-nope'].value_counts()[True]\n",
    "print(\"%6u of %6u (%5.3f%%) of IPv4 addresses failed to connect\"%(ip4nope, \n",
    "                                                                      ip4total, \n",
    "                                                                      ip4nope * 100 / ip4total))\n",
    "ip6nope = cc_df[cc_df['ip6']]['ams-0-nope'].value_counts()[True]\n",
    "print(\"%6u of %6u (%5.3f%%) of IPv6 addresses failed to connect\"%(ip6nope, \n",
    "                                                                      ip6total, \n",
    "                                                                      ip6nope * 100 / ip6total))\n",
    "print(\"%6u of %6u (%5.3f%%) of  all addresses failed to connect\"%(ip4nope + ip6nope, \n",
    "                                                                      ip4total + ip6total, \n",
    "                                                                      (ip4nope + ip6nope) * 100 / (ip4total + ip6total)))\n",
    "\n",
    "\n"
   ]
  },
  {
   "cell_type": "markdown",
   "metadata": {},
   "source": [
    "Now we can plot dependency by rank"
   ]
  },
  {
   "cell_type": "code",
   "execution_count": 6,
   "metadata": {
    "collapsed": false
   },
   "outputs": [
    {
     "data": {
      "image/png": "[encoded data removed]",
      "text/plain": [
       "<matplotlib.figure.Figure at 0x1151d9f28>"
      ]
     },
     "metadata": {},
     "output_type": "display_data"
    }
   ],
   "source": [
    "dep_df = cc_df.loc[:,[\"rank\",\"ams-0-dep\"]]\n",
    "dep_df.columns = [\"rank\",\"conndep\"]\n",
    "\n",
    "dep_grp = dep_df.groupby(np.digitize(dep_df[\"rank\"], np.linspace(0,1000000,201)))\n",
    "dep_ser = (dep_grp[\"conndep\"].sum() / dep_grp[\"rank\"].count())\n",
    "dep_ser.index = (dep_ser.index + (-1)) * 5000\n",
    "\n",
    "plt.figure(figsize=(8,2))\n",
    "plt.scatter(dep_ser.index, dep_ser, marker=\".\")\n",
    "plt.plot(dep_ser.index, dep_ser, c=\"k\", lw=5, alpha=0.20)\n",
    "plt.xlim(-10000,1010000)\n",
    "plt.ylim(0,0.022)\n",
    "plt.ylabel(\"p(conn. ECN dep.)\")\n",
    "plt.xlabel(\"site rank (bins of 5000)\")\n",
    "plt.savefig(PLOTSDIR+\"/connrank.pdf\", bbox_inches=\"tight\")"
   ]
  },
  {
   "cell_type": "markdown",
   "metadata": {},
   "source": [
    "# QoF Data Input\n",
    "\n",
    "Load the `qq_df` table, which has the following columns:\n",
    "\n",
    "- `ip`: index, IP address as string\n",
    "- `rank`: Alexa website rank\n",
    "- `site`: Website hostname\n",
    "- `ip6`: True if address is IPv6 (for convenience in splitting v4 and v6 analyses without string munging)\n",
    "- *vantage*`-`*trial*`-e0`: True if connection established for *trial* at *vantage* without ECN negotiation attempt\n",
    "- *vantage*`-`*trial*`-e0ect0`: True if non-ECN flow set ECT0 flag on downstream for *trial* at *vantage*\n",
    "- *vantage*`-`*trial*`-e0ect1`: True if non-ECN flow set ECT1 flag on downstream for *trial* at *vantage*\n",
    "- *vantage*`-`*trial*`-e0ce`: True if non-ECN flow set CE flag on downstream for *trial* at *vantage*\n",
    "- *vantage*`-`*trial*`-e0f`: Flags on last SYN of upstream non-ECN flow for *trial* at *vantage*\n",
    "- *vantage*`-`*trial*`-e0rf`: Flags on last SYN of downstream non-ECN flow for *trial* at *vantage*\n",
    "- *vantage*`-`*trial*`-e0ruf`: Union flags on downstream non-ECN flow for *trial* at *vantage*\n",
    "- *vantage*`-`*trial*`-ttl`: Max TTL received on downstream non-ECN flow for *trial* at *vantage*\n",
    "- *vantage*`-`*trial*`-z0`: True if no payload received for non-ECN flow for *trial* at *vantage*\n",
    "- *vantage*`-`*trial*`-z1`: True if no payload received for ECN flow for *trial* at *vantage*\n",
    "- *vantage*`-`*trial*`-e1`: True if connection established for *trial* at *vantage* with ECN negotiation attempt\n",
    "- *vantage*`-`*trial*`-neg`: True if ECN negotiated for *trial* at *vantage*\n",
    "- *vantage*`-`*trial*`-ect0`: True if ECN flow set ECT0 flag on downstream for *trial* at *vantage*\n",
    "- *vantage*`-`*trial*`-ect1`: True if ECN flow set ECT1 flag on downstream for *trial* at *vantage*\n",
    "- *vantage*`-`*trial*`-ce`: True if ECN flow set CE flag on downstream for *trial* at *vantage*\n",
    "- *vantage*`-`*trial*`-synect0`: True if ECN flow set ECT0 flag on downstream SYN ACK for *trial* at *vantage*\n",
    "- *vantage*`-`*trial*`-synect1`: True if ECN flow set ECT1 flag on downstream SYN ACK for *trial* at *vantage*\n",
    "- *vantage*`-`*trial*`-synce`: True if ECN flow set CE flag on downstream SYN ACK for *trial* at *vantage*\n",
    "- *vantage*`-`*trial*`-refl`: True if ECN TCP flags were reflected (SEW -> SAEW) for *trial* at *vantage*\n",
    "- *vantage*`-`*trial*`-ect`: True if ECT0 or ECT1 set on downstream ECN flow for *trial* at *vantage*\n",
    "- *vantage*`-`*trial*`-negok`: True if negotiation succeeded (resulted in ECT marking) for  *trial* at *vantage*\n",
    "\n",
    "The `-sum` columns for each of the boolean columns above simply count True values across all trials and vantage points."
   ]
  },
  {
   "cell_type": "code",
   "execution_count": 7,
   "metadata": {
    "collapsed": false
   },
   "outputs": [],
   "source": [
    "qq_df = pd.read_csv(TABLESDIR+\"/qq_df.csv\")\n",
    "qq_df.index = qq_df[\"ip\"]\n",
    "del qq_df[\"ip\"]"
   ]
  },
  {
   "cell_type": "markdown",
   "metadata": {},
   "source": [
    "Headline numbers: how many negotiate ECN?"
   ]
  },
  {
   "cell_type": "code",
   "execution_count": 8,
   "metadata": {
    "collapsed": false
   },
   "outputs": [
    {
     "name": "stdout",
     "output_type": "stream",
     "text": [
      "432544 of 617873 (70.005%) of IPv4 addresses negotiate ECN\n",
      " 20262 of  24472 (82.797%) of IPv6 addresses negotiate ECN\n",
      "452806 of 642345 (70.493%) of  all addresses negotiate ECN\n"
     ]
    }
   ],
   "source": [
    "ip4neg = qq_df[~qq_df['ip6']]['neg-sum'].sum()\n",
    "ip4total = len(qq_df[~qq_df['ip6']])\n",
    "print(\"%6u of %6u (%5.3f%%) of IPv4 addresses negotiate ECN\"%(ip4neg, \n",
    "                                                              ip4total, \n",
    "                                                              ip4neg * 100 / ip4total))\n",
    "ip6neg = qq_df[qq_df['ip6']]['neg-sum'].sum()\n",
    "ip6total = len(qq_df[qq_df['ip6']])\n",
    "print(\"%6u of %6u (%5.3f%%) of IPv6 addresses negotiate ECN\"%(ip6neg, \n",
    "                                                              ip6total, \n",
    "                                                              ip6neg * 100 / ip6total))\n",
    "print(\"%6u of %6u (%5.3f%%) of  all addresses negotiate ECN\"%(ip4neg + ip6neg, \n",
    "                                                                      ip4total + ip6total, \n",
    "                                                                      (ip4neg + ip6neg) * 100 / (ip4total + ip6total)))\n",
    "\n",
    "\n"
   ]
  },
  {
   "cell_type": "markdown",
   "metadata": {},
   "source": [
    "Sieve the resulting rows"
   ]
  },
  {
   "cell_type": "code",
   "execution_count": 9,
   "metadata": {
    "collapsed": false
   },
   "outputs": [],
   "source": [
    "# First throw away things that never connect with ECN\n",
    "qq_df_nc =        qq_df[qq_df['e1-sum'] == 0]\n",
    "qq_df_c =         qq_df[qq_df['e1-sum'] > 0]\n",
    "\n",
    "# Anything we've ever seen a negotiation from counts as ECN-capable\n",
    "qq_df_ecn =       qq_df_c[qq_df_c['neg-sum'] > 0]\n",
    "\n",
    "# Then sieve out those things which always negotiate when they connect\n",
    "qq_df_ecnall =    qq_df_ecn[qq_df_ecn['e1-sum'] - qq_df_ecn['neg-sum'] == 0]\n",
    "qq_df_ecnsome =   qq_df_ecn[qq_df_ecn['e1-sum'] - qq_df_ecn['neg-sum'] != 0]\n",
    "\n",
    "# Then sieve out things where we don't see data, but we always do with ECN\n",
    "# This case, as it turns out, is not really interesting\n",
    "# qq_df_ecnzl =     qq_df_ecnall[(qq_df_ecnall['zl-sum'] - qq_df_ecnall['e1-sum'] == 0) &\n",
    "#                                (qq_df_ecnall['0zl-sum'] - qq_df_ecnall['e1-sum'] >= 0)]\n",
    "\n",
    "# Then sieve out those things which also always or never mark when they negotiate\n",
    "qq_df_ecnmark =   qq_df_ecnall[qq_df_ecnall['neg-sum'] - qq_df_ecnall['negok-sum'] == 0]\n",
    "# For never mark, don't include things that don't mark because we see no data\n",
    "qq_df_ecnnomark = qq_df_ecnall[(qq_df_ecnall['negok-sum'] == 0) & (qq_df_ecnall['z1-sum'] == 0)]\n",
    "\n",
    "# Now look at those things which never negotiate\n",
    "qq_df_noecn =     qq_df_c[qq_df_c['neg-sum'] == 0]\n",
    "qq_df_noecnrefl = qq_df_noecn[qq_df_noecn['refl-sum'] - qq_df_noecn['e1-sum'] == 0]\n",
    "qq_df_noecnect0 = qq_df_noecn[qq_df_noecn['ect0-sum'] - qq_df_noecn['e1-sum'] == 0]\n",
    "qq_df_noecnect1 = qq_df_noecn[qq_df_noecn['ect1-sum'] - qq_df_noecn['e1-sum'] == 0]\n",
    "qq_df_noecnce  =  qq_df_noecn[qq_df_noecn['ce-sum'] - qq_df_noecn['e1-sum'] == 0]\n"
   ]
  },
  {
   "cell_type": "markdown",
   "metadata": {},
   "source": [
    "And build a table, like the one in the PAM 2015 paper"
   ]
  },
  {
   "cell_type": "code",
   "execution_count": 10,
   "metadata": {
    "collapsed": false
   },
   "outputs": [
    {
     "name": "stdout",
     "output_type": "stream",
     "text": [
      "432544 & 70.01\\% & 20262 & 82.80\\% & Capable of negotiating ECN, of which...\\\\\n",
      " 11718 &  1.90\\% &  2167 &  8.86\\% & \\hspace{2em} Never mark ECT\\\\\n",
      "184217 & 29.81\\% &  3246 & 13.26\\% & Not capable of negotiating ECN, of which...\\\\\n",
      "   689 &  0.11\\% &    28 &  0.11\\% & \\hspace{1em} Always mark ECT(0)\\\\\n",
      "  1112 &  0.18\\% &   964 &  3.94\\% & Never connect with ECN\\\\\n"
     ]
    }
   ],
   "source": [
    "def df4(df):\n",
    "    return df[~df['ip6']]\n",
    "\n",
    "def df6(df):\n",
    "    return df[ df['ip6']]\n",
    "\n",
    "# Now build a table\n",
    "qip4all_ct =        len(df4(qq_df))\n",
    "qip4nc_ct =         len(df4(qq_df_nc))\n",
    "qip4ecn_ct =        len(df4(qq_df_ecn))\n",
    "qip4ecnall_ct =     len(df4(qq_df_ecnall))\n",
    "#qip4ecnzl_ct =      len(df4(qq_df_ecnzl))\n",
    "qip4ecnmark_ct =    len(df4(qq_df_ecnmark))\n",
    "qip4ecnnomark_ct =  len(df4(qq_df_ecnnomark))\n",
    "qip4someecn_ct =    len(df4(qq_df_ecnsome))\n",
    "#qip4pathnego_ct =   len(df4(qq_df_pathnego))\n",
    "qip4noecn_ct =      len(df4(qq_df_noecn))\n",
    "qip4noecnect0_ct =  len(df4(qq_df_noecnect0))\n",
    "qip4noecnect1_ct =  len(df4(qq_df_noecnect1))\n",
    "qip4noecnce_ct =    len(df4(qq_df_noecnce))\n",
    "qip4noecnrefl_ct =    len(df4(qq_df_noecnrefl))\n",
    "\n",
    "qip6all_ct =        len(df6(qq_df))\n",
    "qip6nc_ct =         len(df6(qq_df_nc))\n",
    "qip6ecn_ct =        len(df6(qq_df_ecn))\n",
    "qip6ecnall_ct =     len(df6(qq_df_ecnall))\n",
    "#qip6ecnzl_ct =      len(df6(qq_df_ecnzl))\n",
    "qip6ecnmark_ct =    len(df6(qq_df_ecnmark))\n",
    "qip6ecnnomark_ct =  len(df6(qq_df_ecnnomark))\n",
    "qip6someecn_ct =    len(df6(qq_df_ecnsome))\n",
    "#qip6pathnego_ct =   len(df6(qq_df_pathnego))\n",
    "qip6noecn_ct =      len(df6(qq_df_noecn))\n",
    "qip6noecnect0_ct =  len(df6(qq_df_noecnect0))\n",
    "qip6noecnect1_ct =  len(df6(qq_df_noecnect1))\n",
    "qip6noecnce_ct =    len(df6(qq_df_noecnce))\n",
    "qip6noecnrefl_ct =    len(df6(qq_df_noecnrefl))\n",
    "\n",
    "def print_tablerow(ct4, ct6, ct4a, ct6a, label):\n",
    "    print(\"%6u & %5.2f\\%% & %5u & %5.2f\\%% & %s\\\\\\\\\" %\n",
    "        (ct4, ct4*100/ct4a, ct6, ct6*100/ct6a, label))\n",
    "\n",
    "#print_tablerow(qip4all_ct,     qip6all_ct,     qip4all_ct, qip6all_ct, \"Capable of connecting with ECN\")\n",
    "print_tablerow(qip4ecn_ct,     qip6ecn_ct,     qip4all_ct, qip6all_ct, \"Capable of negotiating ECN, of which...\")\n",
    "#print_tablerow(qip4ecnall_ct,  qip6ecnall_ct,  qip4all_ct, qip6all_ct,   \"\\\\hspace{1em} Always negotiate, of which...\")\n",
    "#print_tablerow(qip4ecnmark_ct, qip6ecnmark_ct, qip4all_ct, qip6all_ct,     \"\\\\hspace{2em} Always mark ECT(0)\")\n",
    "print_tablerow(qip4ecnnomark_ct, qip6ecnnomark_ct, qip4all_ct, qip6all_ct, \"\\\\hspace{2em} Never mark ECT\")\n",
    "#print_tablerow(qip4ecnzl_ct,     qip6ecnzl_ct, qip4all_ct, qip6all_ct,     \"\\\\hspace{2em} Never send data\")\n",
    "#print_tablerow(qip4someecn_ct,  qip6someecn_ct,  qip4all_ct, qip6all_ct,   \"\\\\hspace{1em} Sometimes negotiate, of which...\")\n",
    "#print_tablerow(qip4pathnego_ct,  qip6pathnego_ct,  qip4all_ct, qip6all_ct,   \"\\\\hspace{2em} Negotiation depends on path\")\n",
    "print_tablerow(qip4noecn_ct,  qip6noecn_ct,  qip4all_ct, qip6all_ct, \"Not capable of negotiating ECN, of which...\")\n",
    "print_tablerow(qip4noecnect0_ct,  qip6noecnect0_ct,  qip4all_ct, qip6all_ct,   \"\\\\hspace{1em} Always mark ECT(0)\")\n",
    "#print_tablerow(qip4noecnect1_ct,  qip6noecnect1_ct,  qip4all_ct, qip6all_ct,   \"\\\\hspace{1em} Always mark ECT(1)\")\n",
    "#print_tablerow(qip4noecnce_ct,    qip6noecnce_ct,  qip4all_ct, qip6all_ct,     \"\\\\hspace{1em} Always mark CE\")\n",
    "#print_tablerow(qip4noecnrefl_ct,  qip6noecnrefl_ct,  qip4all_ct, qip6all_ct,   \"\\\\hspace{1em} Always reflect ECN flags\")\n",
    "print_tablerow(qip4nc_ct,  qip6nc_ct,  qip4all_ct, qip6all_ct, \"Never connect with ECN\")\n"
   ]
  },
  {
   "cell_type": "markdown",
   "metadata": {},
   "source": [
    "Build the negotiation/marking matrix (Table 3)"
   ]
  },
  {
   "cell_type": "code",
   "execution_count": 11,
   "metadata": {
    "collapsed": false
   },
   "outputs": [
    {
     "name": "stdout",
     "output_type": "stream",
     "text": [
      "\\begin{tabular}{ r | r  r  r | r r r }\n",
      "        & \\multicolumn{3}{c|}{IPv4 (N=617873)} & \\multicolumn{3}{c}{IPv6 (N=24472)} \\\\\n",
      "Marking                  & ECN   & Reflect & No ECN & ECN   & Reflect & No ECN\\\\\n",
      "\\hline\n",
      "only \\ectzero            & 418979 &    208 &    480 &  17968 &      1 &     27 \\\\\n",
      "\\ectzero  + \\ectone &      0 &      0 &      0 &      0 &      0 &      0 \\\\\n",
      "\\hline\n",
      "\\ectzero on \\syncack &  24145 &      0 &     11 &    397 &      0 &     27 \\\\\n",
      "\\hline \\hline\n",
      "only \\ectone         &     16 &      0 &      8 &      0 &     36 &     14 \\\\\n",
      "\\hline\n",
      "\\ectone on \\synack      &     19 &      0 &      8 &      0 &      0 &      9 \\\\\n",
      "\\hline \\hline\n",
      "only \\ce               &     17 &      0 &      3 &      0 &      0 &     17 \\\\\n",
      "\\ce + \\ect   &      6 &      0 &      0 &      0 &     23 &      0 \\\\\n",
      "\\hline\n",
      "\\ce on \\synack &     10 &      0 &      3 &      0 &      0 &     17 \\\\\n",
      "\\hline \\hline\n",
      "none                     &  11701 &   2250 & 180221 &   2167 &      7 &   3104 \\\\\n",
      "\\end{tabular}\n",
      "\n",
      " 2.39% IPv4 negotiation anomalies\n",
      " 9.81% IPv6 negotiation anomalies\n"
     ]
    }
   ],
   "source": [
    "# Bigger negotiation/marking matrix\n",
    "\n",
    "def has_data(df):\n",
    "    return df[(df[\"e1-sum\"] - df[\"z1-sum\"]) > 0]\n",
    "\n",
    "qq_df_ecnall_nzl =   has_data(qq_df_ecnall)\n",
    "qq_df_anyrefl =      has_data(qq_df_c[qq_df_c[\"refl-sum\"] > 0])\n",
    "qq_df_noecn_norefl = has_data(qq_df_noecn[qq_df_noecn[\"refl-sum\"] == 0])\n",
    "\n",
    "def matrix_col(df, df46):\n",
    "    e0 =  len(df46(df[(df[\"ect0-sum\"]  > 0) & (df[\"ect1-sum\"] == 0) & (df[\"ce-sum\"] == 0)]))\n",
    "    e1 =  len(df46(df[(df[\"ect0-sum\"] == 0) & (df[\"ect1-sum\"]  > 0) & (df[\"ce-sum\"] == 0)]))\n",
    "    ce =  len(df46(df[(df[\"ect0-sum\"] == 0) & (df[\"ect1-sum\"] == 0) & (df[\"ce-sum\"]  > 0)]))\n",
    "    e01 = len(df46(df[(df[\"ect0-sum\"]  > 0) & (df[\"ect1-sum\"]  > 0) & (df[\"ce-sum\"] == 0)]))\n",
    "    c01 = len(df46(df[(df[\"ect0-sum\"]       +  df[\"ect1-sum\"]  > 0) & (df[\"ce-sum\"]  > 0)]))\n",
    "    nm =  len(df46(df[(df[\"ect0-sum\"] == 0) & (df[\"ect1-sum\"] == 0) & (df[\"ce-sum\"] == 0)]))\n",
    "    return (e0, e1, ce, e01, c01, nm)\n",
    "\n",
    "def matrix_col_syn(df, df46):\n",
    "    e0 =  len(df46(df[(df[\"synect0-sum\"] > 0)]))\n",
    "    e1 =  len(df46(df[(df[\"synect1-sum\"] > 0)]))\n",
    "    ce =  len(df46(df[(df[\"synce-sum\"] > 0)]))\n",
    "    return (e0, e1, ce)\n",
    "\n",
    "def matrix_col_allmark(df, df46):\n",
    "    e0 =  len(df46(df[(df[\"ect0-sum\"] - df['e1-sum'] == 0) & \n",
    "                      (df[\"ect1-sum\"] == 0) & \n",
    "                      (df[\"ce-sum\"] == 0)]))\n",
    "    e1 =  len(df46(df[(df[\"ect0-sum\"] == 0) & \n",
    "                      (df[\"ect1-sum\"] - df['e1-sum'] == 0) & \n",
    "                      (df[\"ce-sum\"] == 0)]))\n",
    "    ce =  len(df46(df[(df[\"ect0-sum\"] == 0) & \n",
    "                      (df[\"ect1-sum\"] == 0) &\n",
    "                      (df[\"ce-sum\"] - df['e1-sum'] == 0)]))\n",
    "    e01 = len(df46(df[(df[\"ect0-sum\"] - df['e1-sum'] == 0) & \n",
    "                      (df[\"ect1-sum\"] - df['e1-sum'] == 0) & \n",
    "                      (df[\"ce-sum\"] == 0)]))\n",
    "    c01 = len(df46(df[(df[\"ect0-sum\"] + df[\"ect1-sum\"] - df['e1-sum'] == 0) \n",
    "                      & (df[\"ce-sum\"]  > 0)]))\n",
    "    return (e0, e1, ce, e01, c01)\n",
    "\n",
    "\n",
    "(mat4_ne0, mat4_ne1, mat4_nce, mat4_ne01, mat4_nc01, mat4_nnm) = matrix_col(qq_df_ecnall_nzl,   df4)\n",
    "(mat4_re0, mat4_re1, mat4_rce, mat4_re01, mat4_rc01, mat4_rnm) = matrix_col(qq_df_anyrefl,      df4)\n",
    "(mat4_xe0, mat4_xe1, mat4_xce, mat4_xe01, mat4_xc01, mat4_xnm) = matrix_col(qq_df_noecn_norefl, df4)\n",
    "\n",
    "(mat6_ne0, mat6_ne1, mat6_nce, mat6_ne01, mat6_nc01, mat6_nnm) = matrix_col(qq_df_ecnall_nzl,   df6)\n",
    "(mat6_re0, mat6_re1, mat6_rce, mat6_re01, mat6_rc01, mat6_rnm) = matrix_col(qq_df_anyrefl,      df6)\n",
    "(mat6_xe0, mat6_xe1, mat6_xce, mat6_xe01, mat6_xc01, mat6_xnm) = matrix_col(qq_df_noecn_norefl, df6)\n",
    "\n",
    "(mat4_ane0, mat4_ane1, mat4_ance, mat4_ane01, mat4_anc01) = matrix_col_allmark(qq_df_ecnall_nzl,   df4)\n",
    "(mat4_are0, mat4_are1, mat4_arce, mat4_are01, mat4_arc01) = matrix_col_allmark(qq_df_anyrefl,      df4)\n",
    "(mat4_axe0, mat4_axe1, mat4_axce, mat4_axe01, mat4_axc01) = matrix_col_allmark(qq_df_noecn_norefl, df4)\n",
    "\n",
    "(mat6_ane0, mat6_ane1, mat6_ance, mat6_ane01, mat6_anc01) = matrix_col_allmark(qq_df_ecnall_nzl,   df6)\n",
    "(mat6_are0, mat6_are1, mat6_arce, mat6_are01, mat6_arc01) = matrix_col_allmark(qq_df_anyrefl,      df6)\n",
    "(mat6_axe0, mat6_axe1, mat6_axce, mat6_axe01, mat6_axc01) = matrix_col_allmark(qq_df_noecn_norefl, df6)\n",
    "\n",
    "(mat4_sne0, mat4_sne1, mat4_snce) = matrix_col_syn(qq_df_ecnall_nzl,   df4)\n",
    "(mat4_sre0, mat4_sre1, mat4_srce) = matrix_col_syn(qq_df_anyrefl,      df4)\n",
    "(mat4_sxe0, mat4_sxe1, mat4_sxce) = matrix_col_syn(qq_df_noecn_norefl, df4)\n",
    "\n",
    "(mat6_sne0, mat6_sne1, mat6_snce) = matrix_col_syn(qq_df_ecnall_nzl,   df6)\n",
    "(mat6_sre0, mat6_sre1, mat6_srce) = matrix_col_syn(qq_df_anyrefl,      df6)\n",
    "(mat6_sxe0, mat6_sxe1, mat6_sxce) = matrix_col_syn(qq_df_noecn_norefl, df6)\n",
    "\n",
    "\n",
    "print(\"\\\\begin{tabular}{ r | r  r  r | r r r }\")\n",
    "print(\"        & \\\\multicolumn{3}{c|}{IPv4 (N=%u)} & \\\\multicolumn{3}{c}{IPv6 (N=%u)} \\\\\\\\\" %\n",
    "      (len(df4(qq_df)), len(df6(qq_df))))\n",
    "print(\"Marking                  & ECN   & Reflect & No ECN & ECN   & Reflect & No ECN\\\\\\\\\")\n",
    "print(\"\\hline\")\n",
    "print(\"only \\ectzero            & %6u & %6u & %6u & %6u & %6u & %6u \\\\\\\\\" %\n",
    "      (mat4_ne0, mat4_re0, mat4_xe0, mat6_ne0, mat6_re0, mat6_xe0))\n",
    "print(\"\\ectzero  + \\ectone & %6u & %6u & %6u & %6u & %6u & %6u \\\\\\\\\" %\n",
    "      (mat4_ne01, mat4_re01, mat4_xe01, mat6_ne01, mat6_re01, mat6_xe01))\n",
    "print(\"\\hline\")\n",
    "print(\"\\ectzero on \\syncack & %6u & %6u & %6u & %6u & %6u & %6u \\\\\\\\\" %\n",
    "      (mat4_sne0, mat4_sre0, mat4_sxe0, mat6_sne0, mat6_sre0, mat6_sxe0))\n",
    "print(\"\\hline \\hline\")\n",
    "print(\"only \\ectone         & %6u & %6u & %6u & %6u & %6u & %6u \\\\\\\\\"%\n",
    "      (mat4_ne1, mat4_re1, mat4_xe1, mat6_ne1, mat6_re1, mat6_xe1))\n",
    "print(\"\\hline\")\n",
    "print(\"\\ectone on \\synack      & %6u & %6u & %6u & %6u & %6u & %6u \\\\\\\\\" %\n",
    "      (mat4_sne1, mat4_sre1, mat4_sxe1, mat6_sne1, mat6_sre1, mat6_sxe1))\n",
    "print(\"\\hline \\hline\")\n",
    "print(\"only \\ce               & %6u & %6u & %6u & %6u & %6u & %6u \\\\\\\\\"%\n",
    "      (mat4_nce, mat4_rce, mat4_xce, mat6_nce, mat6_rce, mat6_xce))\n",
    "print(\"\\ce + \\ect   & %6u & %6u & %6u & %6u & %6u & %6u \\\\\\\\\"%\n",
    "      (mat4_nc01, mat4_rc01, mat4_xc01, mat6_nc01, mat6_rc01, mat6_xc01))\n",
    "print(\"\\hline\")\n",
    "print(\"\\ce on \\synack & %6u & %6u & %6u & %6u & %6u & %6u \\\\\\\\\" %\n",
    "      (mat4_snce, mat4_srce, mat4_sxce, mat6_snce, mat6_srce, mat6_sxce))\n",
    "print(\"\\hline \\hline\")\n",
    "print(\"none                     & %6u & %6u & %6u & %6u & %6u & %6u \\\\\\\\\"%\n",
    "      (mat4_nnm, mat4_rnm, mat4_xnm, mat6_nnm, mat6_rnm, mat6_xnm))\n",
    "\n",
    "print(\"\\end{tabular}\")\n",
    "print()\n",
    "print (\"%5.2f%% IPv4 negotiation anomalies\" % \n",
    "       (100*(1 - ((mat4_ne0 + mat4_xnm) / sum ((mat4_ne0, mat4_ne1, mat4_nce, mat4_ne01, mat4_nc01, mat4_nnm,\n",
    "                                           mat4_re0, mat4_re1, mat4_rce, mat4_re01, mat4_rc01, mat4_rnm,\n",
    "                                           mat4_xe0, mat4_xe1, mat4_xce, mat4_xe01, mat4_xc01, mat4_xnm))))))\n",
    "print (\"%5.2f%% IPv6 negotiation anomalies\" % \n",
    "       (100*(1 - ((mat6_ne0 + mat6_xnm) / sum ((mat6_ne0, mat6_ne1, mat6_nce, mat6_ne01, mat6_nc01, mat6_nnm,\n",
    "                                           mat6_re0, mat6_re1, mat6_rce, mat6_re01, mat6_rc01, mat6_rnm,\n",
    "                                           mat6_xe0, mat6_xe1, mat6_xce, mat6_xe01, mat6_xc01, mat6_xnm))))))\n"
   ]
  },
  {
   "cell_type": "markdown",
   "metadata": {},
   "source": [
    "Now look at ECN capability resieved only for TTL64 (Linux) hosts"
   ]
  },
  {
   "cell_type": "code",
   "execution_count": 12,
   "metadata": {
    "collapsed": false
   },
   "outputs": [
    {
     "name": "stdout",
     "output_type": "stream",
     "text": [
      "considering only initial-TTL 64 hosts, 420371 of 514703 or 81.67\\% are ECN capable\n"
     ]
    }
   ],
   "source": [
    "# Resieve again for Linux\n",
    "qq_df_linttl = qq_df_c[(qq_df_c['ams-0-ttl'] > 32 ) & (qq_df_c['ams-0-ttl'] < 64)]\n",
    "qq_df_linecn = qq_df_linttl[qq_df_linttl['neg-sum'] > 0]\n",
    "\n",
    "print (\"considering only initial-TTL 64 hosts, %u of %u or %5.2f\\%% are ECN capable\" % (\n",
    "        len(qq_df_linecn), len(qq_df_linttl), 100*len(qq_df_linecn)/len(qq_df_linttl)))"
   ]
  },
  {
   "cell_type": "markdown",
   "metadata": {},
   "source": [
    "Print rank spectrum for negotiation"
   ]
  },
  {
   "cell_type": "code",
   "execution_count": 13,
   "metadata": {
    "collapsed": false
   },
   "outputs": [
    {
     "data": {
      "image/png": "[encoded data removed]",
      "text/plain": [
       "<matplotlib.figure.Figure at 0x124c9e668>"
      ]
     },
     "metadata": {},
     "output_type": "display_data"
    }
   ],
   "source": [
    "qq_df[\"nego\"] = qq_df[\"neg-sum\"] > 0\n",
    "\n",
    "# Negotiation rank spectrum\n",
    "grp = qq_df.groupby(np.digitize(qq_df[\"rank\"], np.linspace(0,1000000,201)))\n",
    "ser = (grp[\"nego\"].sum() / grp[\"rank\"].count())\n",
    "ser.index = (ser.index + (-1)) * 5000\n",
    "\n",
    "plt.figure(figsize=(8,2))\n",
    "plt.scatter(ser.index, ser, marker=\".\")\n",
    "plt.plot(ser.index, ser, c=\"k\", lw=5, alpha=0.20)\n",
    "plt.xlim(-10000,1010000)\n",
    "plt.ylabel(\"p(negotiates ECN)\")\n",
    "plt.xlabel(\"site rank (bins of 5000)\")\n",
    "plt.savefig(PLOTSDIR+\"/negorank.pdf\", bbox_inches=\"tight\")"
   ]
  },
  {
   "cell_type": "markdown",
   "metadata": {},
   "source": [
    "Marking anomalies: look at markings on non-ECN-negotiated (Table 4)"
   ]
  },
  {
   "cell_type": "code",
   "execution_count": 14,
   "metadata": {
    "collapsed": false
   },
   "outputs": [
    {
     "name": "stdout",
     "output_type": "stream",
     "text": [
      "\\begin{tabular}{ r | r  r  r | r r r }\n",
      "        & \\multicolumn{3}{c|}{IPv4 (N=617873)} & \\multicolumn{3}{c}{IPv6 (N=24472)} \\\\\n",
      "Codepoint                & Once & Always & \\synack & Once & Always & \\synack \\\\\n",
      "\\hline\n",
      "\\ectzero                &    285 &    285 &     16 &     22 &     22 &     21 \\\\\n",
      "\\ectone               &     14 &     14 &     14 &     66 &     66 &      2 \\\\\n",
      "\\ce                    &     13 &     13 &     13 &     41 &     41 &     16 \\\\\n"
     ]
    }
   ],
   "source": [
    "def e0mark_counts(df, df46, col):\n",
    "    many = len(df46(df[(df[\"e0\"+col+\"-sum\"] > 0) & (df[\"e0-sum\"] > 0)]))\n",
    "    mall = len(df46(df[(df[\"e0\"+col+\"-sum\"] == df[\"e0-sum\"]) & (df[\"e0-sum\"] > 0)]))\n",
    "    msyn = len(df46(df[(df[\"e0syn\"+col+\"-sum\"] > 0) & (df[\"e0-sum\"] > 0)]))\n",
    "    return (many, mall, msyn)\n",
    "\n",
    "(m4e0e0, a4e0e0, s4e0e0) = e0mark_counts(qq_df, df4, \"ect0\")\n",
    "(m6e0e0, a6e0e0, s6e0e0) = e0mark_counts(qq_df, df6, \"ect0\")\n",
    "(m4e0e1, a4e0e1, s4e0e1) = e0mark_counts(qq_df, df4, \"ect1\")\n",
    "(m6e0e1, a6e0e1, s6e0e1) = e0mark_counts(qq_df, df6, \"ect1\")\n",
    "(m4e0ce, a4e0ce, s4e0ce) = e0mark_counts(qq_df, df4, \"ce\")\n",
    "(m6e0ce, a6e0ce, s6e0ce) = e0mark_counts(qq_df, df6, \"ce\")\n",
    "\n",
    "print(\"\\\\begin{tabular}{ r | r  r  r | r r r }\")\n",
    "print(\"        & \\\\multicolumn{3}{c|}{IPv4 (N=%u)} & \\\\multicolumn{3}{c}{IPv6 (N=%u)} \\\\\\\\\" %\n",
    "      (len(df4(qq_df)), len(df6(qq_df))))\n",
    "print(\"Codepoint                & Once & Always & \\synack & Once & Always & \\synack \\\\\\\\\")\n",
    "print(\"\\hline\")\n",
    "print(\"\\ectzero                & %6u & %6u & %6u & %6u & %6u & %6u \\\\\\\\\" %\n",
    "      (m4e0e0, a4e0e0, s4e0e0, m6e0e0, a6e0e0, s6e0e0))\n",
    "print(\"\\ectone               & %6u & %6u & %6u & %6u & %6u & %6u \\\\\\\\\" %\n",
    "      (m4e0e1, a4e0e1, s4e0e1, m6e0e1, a6e0e1, s6e0e1))\n",
    "print(\"\\ce                    & %6u & %6u & %6u & %6u & %6u & %6u \\\\\\\\\" %\n",
    "      (m4e0ce, a4e0ce, s4e0ce, m6e0ce, a6e0ce, s6e0ce))\n"
   ]
  },
  {
   "cell_type": "markdown",
   "metadata": {},
   "source": [
    "A few more anecdotes:"
   ]
  },
  {
   "cell_type": "code",
   "execution_count": 15,
   "metadata": {
    "collapsed": false
   },
   "outputs": [
    {
     "name": "stdout",
     "output_type": "stream",
     "text": [
      "13 IPv4 and 41 IPv6 mark CE when not negotiating ECN; 13 IPv4 and 41 IPv6 on every flow\n",
      "285 IPv4 and 22 IPv6 mark ECT0 when not negotiating ECN; 285 IPv4 and 22 IPv6 on every flow\n",
      "14 IPv4 and 66 IPv6 mark ECT1 when not negotiating ECN; 14 IPv4 and 66 IPv6 on every flow\n"
     ]
    }
   ],
   "source": [
    "print(\"%u IPv4 and %u IPv6 mark CE when not negotiating ECN; %u IPv4 and %u IPv6 on every flow\" % (\n",
    "    len(df4(qq_df[(qq_df[\"e0ce-sum\"] > 0) & qq_df[\"e0-sum\"] > 0])),\n",
    "    len(df6(qq_df[(qq_df[\"e0ce-sum\"] > 0) & qq_df[\"e0-sum\"] > 0])),\n",
    "    len(df4(qq_df[(qq_df[\"e0ce-sum\"] == qq_df[\"e0-sum\"]) & qq_df[\"e0-sum\"] > 0])),\n",
    "    len(df6(qq_df[(qq_df[\"e0ce-sum\"] == qq_df[\"e0-sum\"]) & qq_df[\"e0-sum\"] > 0])),\n",
    "    ))\n",
    "print(\"%u IPv4 and %u IPv6 mark ECT0 when not negotiating ECN; %u IPv4 and %u IPv6 on every flow\" % (\n",
    "    len(df4(qq_df[(qq_df[\"e0ect0-sum\"] > 0) & qq_df[\"e0-sum\"] > 0])),\n",
    "    len(df6(qq_df[(qq_df[\"e0ect0-sum\"] > 0) & qq_df[\"e0-sum\"] > 0])),\n",
    "    len(df4(qq_df[(qq_df[\"e0ect0-sum\"] == qq_df[\"e0-sum\"]) & qq_df[\"e0-sum\"] > 0])),\n",
    "    len(df6(qq_df[(qq_df[\"e0ect0-sum\"] == qq_df[\"e0-sum\"]) & qq_df[\"e0-sum\"] > 0])),\n",
    "    ))\n",
    "print(\"%u IPv4 and %u IPv6 mark ECT1 when not negotiating ECN; %u IPv4 and %u IPv6 on every flow\" % (\n",
    "    len(df4(qq_df[(qq_df[\"e0ect1-sum\"] > 0) & qq_df[\"e0-sum\"] > 0])),\n",
    "    len(df6(qq_df[(qq_df[\"e0ect1-sum\"] > 0) & qq_df[\"e0-sum\"] > 0])),\n",
    "    len(df4(qq_df[(qq_df[\"e0ect1-sum\"] == qq_df[\"e0-sum\"]) & qq_df[\"e0-sum\"] > 0])),\n",
    "    len(df6(qq_df[(qq_df[\"e0ect1-sum\"] == qq_df[\"e0-sum\"]) & qq_df[\"e0-sum\"] > 0])),\n",
    "    ))"
   ]
  },
  {
   "cell_type": "code",
   "execution_count": 16,
   "metadata": {
    "collapsed": false
   },
   "outputs": [
    {
     "name": "stdout",
     "output_type": "stream",
     "text": [
      "13 IPv4 and 16 IPv6 mark CE on SYN when not negotiating ECN; 13 IPv4 and 16 IPv6 on every flow\n",
      "16 IPv4 and 21 IPv6 mark ECT0 on SYN when not negotiating ECN; 16 IPv4 and 21 IPv6 on every flow\n",
      "14 IPv4 and 2 IPv6 mark ECT1 on SYN when not negotiating ECN; 14 IPv4 and 2 IPv6 on every flow\n"
     ]
    }
   ],
   "source": [
    "print(\"%u IPv4 and %u IPv6 mark CE on SYN when not negotiating ECN; %u IPv4 and %u IPv6 on every flow\" % (\n",
    "    len(df4(qq_df[(qq_df[\"e0synce-sum\"] > 0) & qq_df[\"e0-sum\"] > 0])),\n",
    "    len(df6(qq_df[(qq_df[\"e0synce-sum\"] > 0) & qq_df[\"e0-sum\"] > 0])),\n",
    "    len(df4(qq_df[(qq_df[\"e0synce-sum\"] == qq_df[\"e0-sum\"]) & qq_df[\"e0-sum\"] > 0])),\n",
    "    len(df6(qq_df[(qq_df[\"e0synce-sum\"] == qq_df[\"e0-sum\"]) & qq_df[\"e0-sum\"] > 0])),\n",
    "    ))\n",
    "print(\"%u IPv4 and %u IPv6 mark ECT0 on SYN when not negotiating ECN; %u IPv4 and %u IPv6 on every flow\" % (\n",
    "    len(df4(qq_df[(qq_df[\"e0synect0-sum\"] > 0) & qq_df[\"e0-sum\"] > 0])),\n",
    "    len(df6(qq_df[(qq_df[\"e0synect0-sum\"] > 0) & qq_df[\"e0-sum\"] > 0])),\n",
    "    len(df4(qq_df[(qq_df[\"e0synect0-sum\"] == qq_df[\"e0-sum\"]) & qq_df[\"e0-sum\"] > 0])),\n",
    "    len(df6(qq_df[(qq_df[\"e0synect0-sum\"] == qq_df[\"e0-sum\"]) & qq_df[\"e0-sum\"] > 0])),\n",
    "    ))\n",
    "print(\"%u IPv4 and %u IPv6 mark ECT1 on SYN when not negotiating ECN; %u IPv4 and %u IPv6 on every flow\" % (\n",
    "    len(df4(qq_df[(qq_df[\"e0synect1-sum\"] > 0) & qq_df[\"e0-sum\"] > 0])),\n",
    "    len(df6(qq_df[(qq_df[\"e0synect1-sum\"] > 0) & qq_df[\"e0-sum\"] > 0])),\n",
    "    len(df4(qq_df[(qq_df[\"e0synect1-sum\"] == qq_df[\"e0-sum\"]) & qq_df[\"e0-sum\"] > 0])),\n",
    "    len(df6(qq_df[(qq_df[\"e0synect1-sum\"] == qq_df[\"e0-sum\"]) & qq_df[\"e0-sum\"] > 0])),\n",
    "    ))"
   ]
  },
  {
   "cell_type": "code",
   "execution_count": 17,
   "metadata": {
    "collapsed": false
   },
   "outputs": [
    {
     "name": "stdout",
     "output_type": "stream",
     "text": [
      "312 IPv4 and 104 IPv6 hosts mark without ECN\n",
      "491 IPv4 and 58 IPv6 hosts mark when ECN negotiation fails\n",
      "49 IPv4 and 23 IPv6 hosts are in the intersection\n"
     ]
    }
   ],
   "source": [
    "e0badmark_index = pd.Index((qq_df[(qq_df[\"e0ect0-sum\"] > 0) & (qq_df[\"e0-sum\"] > 0)].index |\n",
    "                            qq_df[(qq_df[\"e0ect1-sum\"] > 0) & (qq_df[\"e0-sum\"] > 0)].index |\n",
    "                            qq_df[(qq_df[\"e0ce-sum\"] > 0) & (qq_df[\"e0-sum\"] > 0)].index).unique(), name=\"ip\")\n",
    "print (\"%u IPv4 and %u IPv6 hosts mark without ECN\" % (\n",
    "    len(df4(qq_df.loc[e0badmark_index])),\n",
    "    len(df6(qq_df.loc[e0badmark_index]))))\n",
    "\n",
    "e1badmark_index = qq_df_noecn_norefl[(qq_df_noecn_norefl[\"ect0-sum\"] + \n",
    "                                      qq_df_noecn_norefl[\"ect1-sum\"] + \n",
    "                                      qq_df_noecn_norefl[\"ce-sum\"])  > 0].index\n",
    "print (\"%u IPv4 and %u IPv6 hosts mark when ECN negotiation fails\" % (\n",
    "    len(df4(qq_df.loc[e1badmark_index])),\n",
    "    len(df6(qq_df.loc[e1badmark_index]))))\n",
    "\n",
    "print (\"%u IPv4 and %u IPv6 hosts are in the intersection\" % (\n",
    "    len(df4(qq_df.loc[e0badmark_index & e1badmark_index])),\n",
    "    len(df6(qq_df.loc[e0badmark_index & e1badmark_index]))))                                                              "
   ]
  },
  {
   "cell_type": "markdown",
   "metadata": {},
   "source": [
    "## TTL spectra\n",
    "\n",
    "Now we can have a look at the TTLs of flows to characterize OS dependency in negotiation"
   ]
  },
  {
   "cell_type": "code",
   "execution_count": 18,
   "metadata": {
    "collapsed": false
   },
   "outputs": [
    {
     "data": {
      "image/png": "[encoded data removed]",
      "text/plain": [
       "<matplotlib.figure.Figure at 0x10cd29978>"
      ]
     },
     "metadata": {},
     "output_type": "display_data"
    }
   ],
   "source": [
    "# Negotiation TTL spectrum\n",
    "def ttl_spectrum(df, col):\n",
    "    grp = df.groupby(np.digitize(df[col], np.linspace(0,255,256)))\n",
    "    ser = grp[col].count() / len(df)\n",
    "    ser.index = ser.index + (-1)\n",
    "    return ser\n",
    "\n",
    "ettl = ttl_spectrum(qq_df_ecn,\"ams-0-ttl\")\n",
    "nttl = ttl_spectrum(qq_df_noecn,\"ams-0-ttl\")\n",
    "\n",
    "plt.figure(figsize=(8,1))\n",
    "plt.plot(ettl.index, ettl, c=\"b\", lw=2, alpha=0.50, label=\"ECN\")\n",
    "plt.plot(nttl.index, nttl, c=\"r\", lw=2, alpha=0.50, label=\"no ECN\")\n",
    "plt.annotate(\"Linux\", xy=(65,0.1))\n",
    "plt.annotate(\"Windows\", xy=(129,0.05))\n",
    "plt.legend()\n",
    "plt.xlim(32,255)\n",
    "plt.yticks([0,0.05,0.1])\n",
    "plt.xticks([64,128,255])\n",
    "plt.ylabel(\"density\")\n",
    "plt.xlabel(\"TTL\")\n",
    "plt.savefig(PLOTSDIR+\"/negottl.pdf\", bbox_inches=\"tight\")"
   ]
  }
 ],
 "metadata": {
  "kernelspec": {
   "display_name": "Python 3",
   "language": "python",
   "name": "python3"
  },
  "language_info": {
   "codemirror_mode": {
    "name": "ipython",
    "version": 3
   },
   "file_extension": ".py",
   "mimetype": "text/x-python",
   "name": "python",
   "nbconvert_exporter": "python",
   "pygments_lexer": "ipython3",
   "version": "3.5.2"
  }
 },
 "nbformat": 4,
 "nbformat_minor": 0
}
